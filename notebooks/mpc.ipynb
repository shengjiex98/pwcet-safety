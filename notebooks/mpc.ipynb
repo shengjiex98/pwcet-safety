{
 "cells": [
  {
   "cell_type": "code",
   "execution_count": 1,
   "metadata": {},
   "outputs": [],
   "source": [
    "using Serialization\n",
    "using Printf\n",
    "using CSV\n",
    "using DataFrames\n",
    "using ControlSystemsBase\n",
    "using ControlTimingSafety\n",
    "using LinearAlgebra: I\n",
    "using Distributions: Pareto, Normal, cdf, quantile\n",
    "\n",
    "using MATLABControlTest\n",
    "\n",
    "push!(LOAD_PATH, \"../src\")\n",
    "using Experiments\n",
    "using Benchmarks\n",
    "using ContinuousSims: nominal_trajectory"
   ]
  },
  {
   "cell_type": "code",
   "execution_count": 2,
   "metadata": {},
   "outputs": [
    {
     "data": {
      "text/plain": [
       "get_period (generic function with 1 method)"
      ]
     },
     "metadata": {},
     "output_type": "display_data"
    }
   ],
   "source": [
    "function get_ref(t::Real)\n",
    "\tt_i = floor(Int64, t / 0.1) + 1\n",
    "\t@boundscheck 1 ≤ t_i ≤ 1000 || throw(ArgumentError(\"t=$t out of bound\"))\n",
    "\tDATA[t_i, :r]\n",
    "end\n",
    "\n",
    "function get_period(q::Real)\n",
    "    e_i = ceil(Int64, q * length(E_VALUES))\n",
    "\t@boundscheck 1 ≤ e_i ≤ length(E_VALUES) || throw(ArgumentError(\"t=$t out of \t\tbound\"))\n",
    "\tE_VALUES[e_i]\n",
    "end"
   ]
  },
  {
   "cell_type": "code",
   "execution_count": 3,
   "metadata": {},
   "outputs": [
    {
     "name": "stdout",
     "output_type": "stream",
     "text": [
      "[0.0, 0.0]"
     ]
    },
    {
     "ename": "ErrorException",
     "evalue": "could not load library \"\\My Project\\pwcet-safety\\MATLABControlTest.jl\\src\\mpc_rtwdemo_single_mod.so\"\n%1 is not a valid Win32 application. ",
     "output_type": "error",
     "traceback": [
      "could not load library \"\\My Project\\pwcet-safety\\MATLABControlTest.jl\\src\\mpc_rtwdemo_single_mod.so\"\n",
      "%1 is not a valid Win32 application. \n",
      "\n",
      "Stacktrace:\n",
      " [1] clear_dw\n",
      "   @ .\\My Project\\pwcet-safety\\MATLABControlTest.jl\\src\\MATLABControlTest.jl:36 [inlined]\n",
      " [2] run_simulation(sysd::StateSpace{Discrete{Float64}, Float64}, x0::Vector{Float64}, refs::Vector{Float64}; input::BitVector)\n",
      "   @ MATLABControlTest .\\My Project\\pwcet-safety\\MATLABControlTest.jl\\src\\MATLABControlTest.jl:56\n",
      " [3] top-level scope\n",
      "   @ c:\\My Project\\pwcet-safety\\notebooks\\mpc.ipynb:18"
     ]
    }
   ],
   "source": [
    "BATCHSIZE = 1000\n",
    "SYS = ss(tf([3, 1],[1, 0.6, 1]))\n",
    "DATA = CSV.read(\"../MATLABControlTest.jl/output-jumping1000-1e3-O1.csv\", DataFrame)\n",
    "E_VALUES = sort(DATA[:, :t]) / 100_000 * 0.2\n",
    "\n",
    "H = 1000 * 0.1\n",
    "q = 1.0\n",
    "period = get_period(q)\n",
    "H_steps = floor(Int64, H / period)+1\n",
    "ref_values = map(get_ref, 0:period:H)\n",
    "sysd = c2d(SYS, period)\n",
    "x0 = zeros(sysd.nx)\n",
    "print(x0)\n",
    "sp = SamplerPWCET(q, H_steps)\n",
    "samples = Vector{Tuple{BitVector,Float64}}(undef, BATCHSIZE)\n",
    "for i in 1:BATCHSIZE\n",
    "    σ = rand(sp)\n",
    "    d = maximum(abs.(run_simulation(sysd, x0, ref_values; input = σ) - ref_values))\n",
    "    samples[i] = (σ, d)\n",
    "end\n",
    "t = sort!(samples, by=x -> x[2])\n",
    "t"
   ]
  }
 ],
 "metadata": {
  "kernelspec": {
   "display_name": "Julia 1.10.3",
   "language": "julia",
   "name": "julia-1.10"
  },
  "language_info": {
   "file_extension": ".jl",
   "mimetype": "application/julia",
   "name": "julia",
   "version": "1.10.3"
  }
 },
 "nbformat": 4,
 "nbformat_minor": 2
}
