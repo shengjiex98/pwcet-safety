{
 "cells": [
  {
   "cell_type": "code",
   "execution_count": 1,
   "metadata": {},
   "outputs": [
    {
     "name": "stderr",
     "output_type": "stream",
     "text": [
      "WARNING: Method definition generate_samples_mpc(ControlSystemsBase.AbstractStateSpace{var\"#s22\"} where var\"#s22\"<:(ControlSystemsBase.Discrete{T} where T), AbstractArray{var\"#s21\", 1} where var\"#s21\"<:Real, AbstractArray{var\"#s20\", 1} where var\"#s20\"<:Real, Real, Integer) in module Experiments at /mnt/c/My Project/pwcet-safety/src/Experiments.jl:72 overwritten at /mnt/c/My Project/pwcet-safety/src/Experiments.jl:89.\n",
      "ERROR: Method overwriting is not permitted during Module precompilation. Use `__precompile__(false)` to opt-out of precompilation.\n"
     ]
    }
   ],
   "source": [
    "using Serialization\n",
    "using Printf\n",
    "using CSV\n",
    "using JSON\n",
    "using DataFrames\n",
    "using ControlSystemsBase\n",
    "using ControlTimingSafety\n",
    "using LinearAlgebra: I\n",
    "using Distributions: Pareto, Normal, cdf, quantile\n",
    "using DelimitedFiles\n",
    "\n",
    "using MATLABControlTest\n",
    "\n",
    "push!(LOAD_PATH, \"../src\")\n",
    "using Experiments\n",
    "using Benchmarks\n",
    "using ContinuousSims: nominal_trajectory\n",
    "using Plots"
   ]
  },
  {
   "cell_type": "code",
   "execution_count": 2,
   "metadata": {},
   "outputs": [
    {
     "data": {
      "text/plain": [
       "get_y (generic function with 1 method)"
      ]
     },
     "metadata": {},
     "output_type": "display_data"
    }
   ],
   "source": [
    "function get_ref(t::Real, i::Integer)\n",
    "    t_i = floor(Int64, t / 0.1) + 1\n",
    "    @boundscheck 1 ≤ t_i ≤ 1000 || throw(ArgumentError(\"t=$t out of bound\"))\n",
    "    DATA[i][\"r\"][t_i]\n",
    "end\n",
    "\n",
    "function get_period(q::Real, i::Integer)\n",
    "    e_i = ceil(Int64, q * length(E_VALUES[i]))\n",
    "    @boundscheck 1 ≤ e_i ≤ length(E_VALUES[i]) || throw(ArgumentError(\"t=$t out of \t\tbound\"))\n",
    "    E_VALUES[i][e_i]\n",
    "end\n",
    "\n",
    "function get_y(t::Real, i::Integer)\n",
    "    t_i = floor(Int64, t / 0.1) + 1\n",
    "    @boundscheck 1 ≤ t_i ≤ 1000 || throw(ArgumentError(\"t=$t out of bound\"))\n",
    "    DATA[i][\"y\"][t_i]\n",
    "end"
   ]
  },
  {
   "cell_type": "code",
   "execution_count": 3,
   "metadata": {},
   "outputs": [],
   "source": [
    "BATCHSIZE = 10\n",
    "SYS = ss(tf([3, 1],[1, 0.6, 1]))\n",
    "H = 1000 * 0.1\n",
    "k = []\n",
    "Q_VALUES = 0.01:0.01:0.99\n",
    "file_num = 1:1\n",
    "DATA = [Dict() for _ in file_num]\n",
    "E_VALUES =[Float64[] for _ in file_num]\n",
    "for i in file_num\n",
    "    file_path = \"../O2/output-O2-$i.json\"\n",
    "    DATA[i] = open(file_path) do file\n",
    "        JSON.parse(file)\n",
    "    end\n",
    "    E_VALUES[i] = sort(DATA[i][\"t\"]) / 100_000 * 0.2\n",
    "end"
   ]
  },
  {
   "cell_type": "code",
   "execution_count": 8,
   "metadata": {},
   "outputs": [
    {
     "data": {
      "text/plain": [
       "495-element Vector{Any}:\n",
       " 114566.29071044922\n",
       "  48274.5458984375\n",
       "  22553.84423828125\n",
       "  17334.358032226562\n",
       "  11691.408752441406\n",
       "   7652.38623046875\n",
       "   8058.44677734375\n",
       "   6224.715728759766\n",
       "   5312.49755859375\n",
       "   4363.5341796875\n",
       "      ⋮\n",
       "   1223.8368530273438\n",
       "   1262.91650390625\n",
       "   1205.8699340820312\n",
       "   1201.8540649414062\n",
       "   1197.569091796875\n",
       "   1262.2941284179688\n",
       "   1243.7591552734375\n",
       "   1250.153564453125\n",
       "   1582.8501586914062"
      ]
     },
     "metadata": {},
     "output_type": "display_data"
    }
   ],
   "source": [
    "for i in file_num\n",
    "    for q in Q_VALUES\n",
    "        period = get_period(q, i)\n",
    "        ref_values_y = map(t -> get_y(t, i), 0:period:H)\n",
    "        ref_values = map(t -> get_ref(t, i), 0:period:H)\n",
    "        H_steps = length(ref_values)\n",
    "        sysd = c2d(SYS, period)\n",
    "        x0 = zeros(sysd.nx)\n",
    "        t = generate_samples_mpc_with_multi_ref(sysd, x0, ref_values, ref_values_y, q, BATCHSIZE, H=H_steps)\n",
    "        a = t[9][3]\n",
    "        push!(k, a)\n",
    "    end\n",
    "end\n",
    "k"
   ]
  }
 ],
 "metadata": {
  "kernelspec": {
   "display_name": "Julia 1.10.4",
   "language": "julia",
   "name": "julia-1.10"
  },
  "language_info": {
   "file_extension": ".jl",
   "mimetype": "application/julia",
   "name": "julia",
   "version": "1.10.4"
  }
 },
 "nbformat": 4,
 "nbformat_minor": 2
}
