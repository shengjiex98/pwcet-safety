{
 "cells": [
  {
   "cell_type": "code",
   "execution_count": 1,
   "metadata": {},
   "outputs": [],
   "source": [
    "import os\n",
    "import plot"
   ]
  },
  {
   "cell_type": "code",
   "execution_count": 2,
   "metadata": {},
   "outputs": [
    {
     "data": {
      "text/html": [
       "<div>\n",
       "<style scoped>\n",
       "    .dataframe tbody tr th:only-of-type {\n",
       "        vertical-align: middle;\n",
       "    }\n",
       "\n",
       "    .dataframe tbody tr th {\n",
       "        vertical-align: top;\n",
       "    }\n",
       "\n",
       "    .dataframe thead th {\n",
       "        text-align: right;\n",
       "    }\n",
       "</style>\n",
       "<table border=\"1\" class=\"dataframe\">\n",
       "  <thead>\n",
       "    <tr style=\"text-align: right;\">\n",
       "      <th></th>\n",
       "      <th>system</th>\n",
       "      <th>distribution</th>\n",
       "      <th>batchsize</th>\n",
       "      <th>hit_chance</th>\n",
       "      <th>period</th>\n",
       "      <th>utilization</th>\n",
       "      <th>p99</th>\n",
       "      <th>p99_lower</th>\n",
       "      <th>p99_upper</th>\n",
       "    </tr>\n",
       "  </thead>\n",
       "  <tbody>\n",
       "    <tr>\n",
       "      <th>0</th>\n",
       "      <td>F1T</td>\n",
       "      <td>slre</td>\n",
       "      <td>300000</td>\n",
       "      <td>0.00001</td>\n",
       "      <td>0.017267</td>\n",
       "      <td>0.96</td>\n",
       "      <td>13.907153</td>\n",
       "      <td>13.907153</td>\n",
       "      <td>13.907153</td>\n",
       "    </tr>\n",
       "    <tr>\n",
       "      <th>1</th>\n",
       "      <td>F1T</td>\n",
       "      <td>slre</td>\n",
       "      <td>300000</td>\n",
       "      <td>0.00011</td>\n",
       "      <td>0.017267</td>\n",
       "      <td>0.97</td>\n",
       "      <td>63.248331</td>\n",
       "      <td>45.971025</td>\n",
       "      <td>82.090058</td>\n",
       "    </tr>\n",
       "    <tr>\n",
       "      <th>2</th>\n",
       "      <td>F1T</td>\n",
       "      <td>slre</td>\n",
       "      <td>300000</td>\n",
       "      <td>0.00124</td>\n",
       "      <td>0.017267</td>\n",
       "      <td>0.98</td>\n",
       "      <td>471.832130</td>\n",
       "      <td>471.543058</td>\n",
       "      <td>471.832130</td>\n",
       "    </tr>\n",
       "    <tr>\n",
       "      <th>3</th>\n",
       "      <td>F1T</td>\n",
       "      <td>slre</td>\n",
       "      <td>300000</td>\n",
       "      <td>0.00591</td>\n",
       "      <td>0.017267</td>\n",
       "      <td>0.99</td>\n",
       "      <td>4727.604624</td>\n",
       "      <td>4705.821255</td>\n",
       "      <td>4748.317362</td>\n",
       "    </tr>\n",
       "    <tr>\n",
       "      <th>4</th>\n",
       "      <td>F1T</td>\n",
       "      <td>slre</td>\n",
       "      <td>300000</td>\n",
       "      <td>0.01866</td>\n",
       "      <td>0.017267</td>\n",
       "      <td>1.00</td>\n",
       "      <td>31068.852080</td>\n",
       "      <td>30410.583777</td>\n",
       "      <td>31587.670361</td>\n",
       "    </tr>\n",
       "    <tr>\n",
       "      <th>...</th>\n",
       "      <td>...</td>\n",
       "      <td>...</td>\n",
       "      <td>...</td>\n",
       "      <td>...</td>\n",
       "      <td>...</td>\n",
       "      <td>...</td>\n",
       "      <td>...</td>\n",
       "      <td>...</td>\n",
       "      <td>...</td>\n",
       "    </tr>\n",
       "    <tr>\n",
       "      <th>36</th>\n",
       "      <td>F1T</td>\n",
       "      <td>slre</td>\n",
       "      <td>300000</td>\n",
       "      <td>0.98308</td>\n",
       "      <td>0.028045</td>\n",
       "      <td>0.96</td>\n",
       "      <td>0.629298</td>\n",
       "      <td>0.629298</td>\n",
       "      <td>0.629298</td>\n",
       "    </tr>\n",
       "    <tr>\n",
       "      <th>37</th>\n",
       "      <td>F1T</td>\n",
       "      <td>slre</td>\n",
       "      <td>300000</td>\n",
       "      <td>0.98507</td>\n",
       "      <td>0.028045</td>\n",
       "      <td>0.97</td>\n",
       "      <td>0.629298</td>\n",
       "      <td>0.629298</td>\n",
       "      <td>0.629298</td>\n",
       "    </tr>\n",
       "    <tr>\n",
       "      <th>38</th>\n",
       "      <td>F1T</td>\n",
       "      <td>slre</td>\n",
       "      <td>300000</td>\n",
       "      <td>0.98697</td>\n",
       "      <td>0.028045</td>\n",
       "      <td>0.98</td>\n",
       "      <td>0.629298</td>\n",
       "      <td>0.629298</td>\n",
       "      <td>0.629298</td>\n",
       "    </tr>\n",
       "    <tr>\n",
       "      <th>39</th>\n",
       "      <td>F1T</td>\n",
       "      <td>slre</td>\n",
       "      <td>300000</td>\n",
       "      <td>0.98854</td>\n",
       "      <td>0.028045</td>\n",
       "      <td>0.99</td>\n",
       "      <td>0.629298</td>\n",
       "      <td>0.629298</td>\n",
       "      <td>0.629298</td>\n",
       "    </tr>\n",
       "    <tr>\n",
       "      <th>40</th>\n",
       "      <td>F1T</td>\n",
       "      <td>slre</td>\n",
       "      <td>300000</td>\n",
       "      <td>0.99000</td>\n",
       "      <td>0.028045</td>\n",
       "      <td>1.00</td>\n",
       "      <td>0.372044</td>\n",
       "      <td>0.372044</td>\n",
       "      <td>0.629298</td>\n",
       "    </tr>\n",
       "  </tbody>\n",
       "</table>\n",
       "<p>2597 rows × 9 columns</p>\n",
       "</div>"
      ],
      "text/plain": [
       "   system distribution  batchsize  hit_chance    period  utilization  \\\n",
       "0     F1T         slre     300000     0.00001  0.017267         0.96   \n",
       "1     F1T         slre     300000     0.00011  0.017267         0.97   \n",
       "2     F1T         slre     300000     0.00124  0.017267         0.98   \n",
       "3     F1T         slre     300000     0.00591  0.017267         0.99   \n",
       "4     F1T         slre     300000     0.01866  0.017267         1.00   \n",
       "..    ...          ...        ...         ...       ...          ...   \n",
       "36    F1T         slre     300000     0.98308  0.028045         0.96   \n",
       "37    F1T         slre     300000     0.98507  0.028045         0.97   \n",
       "38    F1T         slre     300000     0.98697  0.028045         0.98   \n",
       "39    F1T         slre     300000     0.98854  0.028045         0.99   \n",
       "40    F1T         slre     300000     0.99000  0.028045         1.00   \n",
       "\n",
       "             p99     p99_lower     p99_upper  \n",
       "0      13.907153     13.907153     13.907153  \n",
       "1      63.248331     45.971025     82.090058  \n",
       "2     471.832130    471.543058    471.832130  \n",
       "3    4727.604624   4705.821255   4748.317362  \n",
       "4   31068.852080  30410.583777  31587.670361  \n",
       "..           ...           ...           ...  \n",
       "36      0.629298      0.629298      0.629298  \n",
       "37      0.629298      0.629298      0.629298  \n",
       "38      0.629298      0.629298      0.629298  \n",
       "39      0.629298      0.629298      0.629298  \n",
       "40      0.372044      0.372044      0.629298  \n",
       "\n",
       "[2597 rows x 9 columns]"
      ]
     },
     "execution_count": 2,
     "metadata": {},
     "output_type": "execute_result"
    }
   ],
   "source": [
    "JOB_ID = 48687773\n",
    "DATA_PATH = os.path.join(os.getcwd(), f\"../data-csv/\")\n",
    "FILE_NUM = range(1, 101)\n",
    "x = plot.readfile(DATA_PATH, JOB_ID, FILE_NUM)\n",
    "x"
   ]
  },
  {
   "cell_type": "code",
   "execution_count": 3,
   "metadata": {},
   "outputs": [
    {
     "data": {
      "application/vnd.plotly.v1+json": {
       "config": {
        "plotlyServerURL": "https://plot.ly"
       },
       "data": [
        {
         "customdata": [
          [
           0.0172670968668349,
           0.96
          ],
          [
           0.0271736269581448,
           0.61
          ],
          [
           0.0251052305654537,
           0.66
          ],
          [
           0.0230368341727626,
           0.72
          ],
          [
           0.0215127526202534,
           0.77
          ],
          [
           0.0267381750859993,
           0.62
          ],
          [
           0.0259761343097447,
           0.64
          ],
          [
           0.0186823154513077,
           0.99
          ],
          [
           0.0189000413873805,
           0.98
          ],
          [
           0.0191177673234532,
           0.97
          ],
          [
           0.0193354932595259,
           0.96
          ],
          [
           0.0185734524832713,
           1
          ],
          [
           0.0187911784193441,
           0.99
          ],
          [
           0.0190089043554168,
           0.98
          ],
          [
           0.0192266302914896,
           0.97
          ],
          [
           0.0194443562275623,
           0.96
          ],
          [
           0.0196620821636351,
           0.95
          ],
          [
           0.0186823154513077,
           1
          ],
          [
           0.0189000413873805,
           0.99
          ],
          [
           0.0191177673234532,
           0.98
          ],
          [
           0.0193354932595259,
           0.97
          ],
          [
           0.0195532191955987,
           0.96
          ],
          [
           0.0197709451316714,
           0.95
          ],
          [
           0.0187911784193441,
           1
          ],
          [
           0.0190089043554168,
           0.99
          ],
          [
           0.0192266302914896,
           0.98
          ],
          [
           0.0194443562275623,
           0.97
          ],
          [
           0.0189000413873805,
           1
          ],
          [
           0.0191177673234532,
           0.99
          ],
          [
           0.0193354932595259,
           0.98
          ],
          [
           0.0195532191955987,
           0.97
          ],
          [
           0.0197709451316714,
           0.96
          ],
          [
           0.0202063970038169,
           0.94
          ],
          [
           0.0190089043554168,
           1
          ],
          [
           0.0192266302914896,
           0.99
          ],
          [
           0.0191177673234532,
           1
          ],
          [
           0.0193354932595259,
           0.99
          ],
          [
           0.0195532191955987,
           0.98
          ],
          [
           0.0192266302914896,
           1
          ],
          [
           0.0193354932595259,
           1
          ],
          [
           0.0204241229398897,
           0.95
          ],
          [
           0.0194443562275623,
           1
          ],
          [
           0.0195532191955987,
           1
          ],
          [
           0.0197709451316714,
           0.99
          ],
          [
           0.0196620821636351,
           1
          ],
          [
           0.0197709451316714,
           1
          ],
          [
           0.0198798080997078,
           1
          ],
          [
           0.0199886710677442,
           1
          ],
          [
           0.0210773007481079,
           0.95
          ],
          [
           0.0208595748120352,
           0.96
          ],
          [
           0.0200975340357806,
           1
          ],
          [
           0.0203152599718533,
           1
          ],
          [
           0.0204241229398897,
           1
          ],
          [
           0.0230368341727626,
           0.89
          ],
          [
           0.0220570674604353,
           0.93
          ],
          [
           0.0218393415243625,
           0.94
          ],
          [
           0.020532985907926,
           1
          ],
          [
           0.0211861637161443,
           1
          ],
          [
           0.0227102452686535,
           0.94
          ],
          [
           0.0245609157252718,
           0.87
          ],
          [
           0.02401660088509,
           0.89
          ],
          [
           0.022274793396508,
           0.96
          ],
          [
           0.0220570674604353,
           0.97
          ],
          [
           0.0218393415243625,
           0.98
          ],
          [
           0.021403889652217,
           1
          ],
          [
           0.0232545601088354,
           0.99
          ],
          [
           0.0230368341727626,
           1
          ],
          [
           0.0280445307024357,
           1
          ]
         ],
         "hovertemplate": "hit_chance=%{x}<br>p99=%{y}<br>period=%{customdata[0]}<br>utilization=%{customdata[1]}<extra></extra>",
         "legendgroup": "",
         "marker": {
          "color": "#636efa",
          "symbol": "circle"
         },
         "mode": "markers",
         "name": "",
         "orientation": "v",
         "showlegend": false,
         "type": "scatter",
         "x": [
          0.00001,
          0.00001,
          0.00001,
          0.00001,
          0.00001,
          0.00001,
          0.00002,
          0.28163,
          0.28833,
          0.29399,
          0.29863,
          0.30112,
          0.30888,
          0.31529,
          0.32071,
          0.32507,
          0.32773,
          0.32855,
          0.33601,
          0.34277,
          0.34793,
          0.35169,
          0.35481,
          0.35703,
          0.36404,
          0.36988,
          0.37448,
          0.3842,
          0.39095,
          0.39646,
          0.40099,
          0.40447,
          0.40784,
          0.41188,
          0.41809,
          0.43687,
          0.44226,
          0.44699,
          0.46227,
          0.48663,
          0.50095,
          0.5096,
          0.53182,
          0.53581,
          0.55312,
          0.57388,
          0.59357,
          0.61153,
          0.61732,
          0.61761,
          0.63068,
          0.66404,
          0.67987,
          0.69128,
          0.69257,
          0.69455,
          0.69511,
          0.77143,
          0.78738,
          0.78953,
          0.79024,
          0.7911,
          0.79223,
          0.79278,
          0.79288,
          0.89845,
          0.89926,
          0.99
         ],
         "xaxis": "x",
         "y": [
          13.907152690132843,
          13.893883742137003,
          13.89153364020084,
          13.87758801355088,
          13.864623745951318,
          13.861059886547835,
          13.832207946234982,
          13.74359821464332,
          12.520096595611273,
          11.910358182450826,
          11.179799293865711,
          9.231698308068188,
          8.390766349469375,
          7.785859655259386,
          7.475183373143588,
          7.45199366286693,
          7.305388927226843,
          6.112004734743939,
          5.5943929753653,
          5.269073150104828,
          5.215102052164399,
          5.155114281545322,
          5.101321642357015,
          4.239430448757443,
          4.012171267579538,
          3.963332267275144,
          3.879166319510581,
          3.207088257532946,
          3.108980374134626,
          3.034114189810334,
          3.0177315315516995,
          3.0061434680405132,
          3.004915474443561,
          2.522424592403851,
          2.4838037749156427,
          2.209236522376957,
          2.1381605198345177,
          2.0877684665684177,
          1.8730966406609584,
          1.7239973090789509,
          1.6848309217355966,
          1.5520942465181102,
          1.3975396423720845,
          1.3958954583178036,
          1.3770950584940214,
          1.2137158594158908,
          1.208832527756352,
          1.1926735559304729,
          1.1866756316436824,
          1.1575670787655292,
          1.041892652146993,
          1.0415299928501156,
          1.0177739439197109,
          0.9956189514102252,
          0.9273026892505754,
          0.9186246823148222,
          0.8648797626987719,
          0.8496858296243482,
          0.7985730529302943,
          0.7916381587278578,
          0.77529835373986,
          0.7223119691988021,
          0.7167054608199844,
          0.7110167959964436,
          0.6993928231839845,
          0.6961480095453556,
          0.5323776589446302,
          0.3720437133415009
         ],
         "yaxis": "y"
        }
       ],
       "layout": {
        "legend": {
         "tracegroupgap": 0
        },
        "margin": {
         "t": 60
        },
        "template": {
         "data": {
          "bar": [
           {
            "error_x": {
             "color": "#2a3f5f"
            },
            "error_y": {
             "color": "#2a3f5f"
            },
            "marker": {
             "line": {
              "color": "#E5ECF6",
              "width": 0.5
             },
             "pattern": {
              "fillmode": "overlay",
              "size": 10,
              "solidity": 0.2
             }
            },
            "type": "bar"
           }
          ],
          "barpolar": [
           {
            "marker": {
             "line": {
              "color": "#E5ECF6",
              "width": 0.5
             },
             "pattern": {
              "fillmode": "overlay",
              "size": 10,
              "solidity": 0.2
             }
            },
            "type": "barpolar"
           }
          ],
          "carpet": [
           {
            "aaxis": {
             "endlinecolor": "#2a3f5f",
             "gridcolor": "white",
             "linecolor": "white",
             "minorgridcolor": "white",
             "startlinecolor": "#2a3f5f"
            },
            "baxis": {
             "endlinecolor": "#2a3f5f",
             "gridcolor": "white",
             "linecolor": "white",
             "minorgridcolor": "white",
             "startlinecolor": "#2a3f5f"
            },
            "type": "carpet"
           }
          ],
          "choropleth": [
           {
            "colorbar": {
             "outlinewidth": 0,
             "ticks": ""
            },
            "type": "choropleth"
           }
          ],
          "contour": [
           {
            "colorbar": {
             "outlinewidth": 0,
             "ticks": ""
            },
            "colorscale": [
             [
              0,
              "#0d0887"
             ],
             [
              0.1111111111111111,
              "#46039f"
             ],
             [
              0.2222222222222222,
              "#7201a8"
             ],
             [
              0.3333333333333333,
              "#9c179e"
             ],
             [
              0.4444444444444444,
              "#bd3786"
             ],
             [
              0.5555555555555556,
              "#d8576b"
             ],
             [
              0.6666666666666666,
              "#ed7953"
             ],
             [
              0.7777777777777778,
              "#fb9f3a"
             ],
             [
              0.8888888888888888,
              "#fdca26"
             ],
             [
              1,
              "#f0f921"
             ]
            ],
            "type": "contour"
           }
          ],
          "contourcarpet": [
           {
            "colorbar": {
             "outlinewidth": 0,
             "ticks": ""
            },
            "type": "contourcarpet"
           }
          ],
          "heatmap": [
           {
            "colorbar": {
             "outlinewidth": 0,
             "ticks": ""
            },
            "colorscale": [
             [
              0,
              "#0d0887"
             ],
             [
              0.1111111111111111,
              "#46039f"
             ],
             [
              0.2222222222222222,
              "#7201a8"
             ],
             [
              0.3333333333333333,
              "#9c179e"
             ],
             [
              0.4444444444444444,
              "#bd3786"
             ],
             [
              0.5555555555555556,
              "#d8576b"
             ],
             [
              0.6666666666666666,
              "#ed7953"
             ],
             [
              0.7777777777777778,
              "#fb9f3a"
             ],
             [
              0.8888888888888888,
              "#fdca26"
             ],
             [
              1,
              "#f0f921"
             ]
            ],
            "type": "heatmap"
           }
          ],
          "heatmapgl": [
           {
            "colorbar": {
             "outlinewidth": 0,
             "ticks": ""
            },
            "colorscale": [
             [
              0,
              "#0d0887"
             ],
             [
              0.1111111111111111,
              "#46039f"
             ],
             [
              0.2222222222222222,
              "#7201a8"
             ],
             [
              0.3333333333333333,
              "#9c179e"
             ],
             [
              0.4444444444444444,
              "#bd3786"
             ],
             [
              0.5555555555555556,
              "#d8576b"
             ],
             [
              0.6666666666666666,
              "#ed7953"
             ],
             [
              0.7777777777777778,
              "#fb9f3a"
             ],
             [
              0.8888888888888888,
              "#fdca26"
             ],
             [
              1,
              "#f0f921"
             ]
            ],
            "type": "heatmapgl"
           }
          ],
          "histogram": [
           {
            "marker": {
             "pattern": {
              "fillmode": "overlay",
              "size": 10,
              "solidity": 0.2
             }
            },
            "type": "histogram"
           }
          ],
          "histogram2d": [
           {
            "colorbar": {
             "outlinewidth": 0,
             "ticks": ""
            },
            "colorscale": [
             [
              0,
              "#0d0887"
             ],
             [
              0.1111111111111111,
              "#46039f"
             ],
             [
              0.2222222222222222,
              "#7201a8"
             ],
             [
              0.3333333333333333,
              "#9c179e"
             ],
             [
              0.4444444444444444,
              "#bd3786"
             ],
             [
              0.5555555555555556,
              "#d8576b"
             ],
             [
              0.6666666666666666,
              "#ed7953"
             ],
             [
              0.7777777777777778,
              "#fb9f3a"
             ],
             [
              0.8888888888888888,
              "#fdca26"
             ],
             [
              1,
              "#f0f921"
             ]
            ],
            "type": "histogram2d"
           }
          ],
          "histogram2dcontour": [
           {
            "colorbar": {
             "outlinewidth": 0,
             "ticks": ""
            },
            "colorscale": [
             [
              0,
              "#0d0887"
             ],
             [
              0.1111111111111111,
              "#46039f"
             ],
             [
              0.2222222222222222,
              "#7201a8"
             ],
             [
              0.3333333333333333,
              "#9c179e"
             ],
             [
              0.4444444444444444,
              "#bd3786"
             ],
             [
              0.5555555555555556,
              "#d8576b"
             ],
             [
              0.6666666666666666,
              "#ed7953"
             ],
             [
              0.7777777777777778,
              "#fb9f3a"
             ],
             [
              0.8888888888888888,
              "#fdca26"
             ],
             [
              1,
              "#f0f921"
             ]
            ],
            "type": "histogram2dcontour"
           }
          ],
          "mesh3d": [
           {
            "colorbar": {
             "outlinewidth": 0,
             "ticks": ""
            },
            "type": "mesh3d"
           }
          ],
          "parcoords": [
           {
            "line": {
             "colorbar": {
              "outlinewidth": 0,
              "ticks": ""
             }
            },
            "type": "parcoords"
           }
          ],
          "pie": [
           {
            "automargin": true,
            "type": "pie"
           }
          ],
          "scatter": [
           {
            "fillpattern": {
             "fillmode": "overlay",
             "size": 10,
             "solidity": 0.2
            },
            "type": "scatter"
           }
          ],
          "scatter3d": [
           {
            "line": {
             "colorbar": {
              "outlinewidth": 0,
              "ticks": ""
             }
            },
            "marker": {
             "colorbar": {
              "outlinewidth": 0,
              "ticks": ""
             }
            },
            "type": "scatter3d"
           }
          ],
          "scattercarpet": [
           {
            "marker": {
             "colorbar": {
              "outlinewidth": 0,
              "ticks": ""
             }
            },
            "type": "scattercarpet"
           }
          ],
          "scattergeo": [
           {
            "marker": {
             "colorbar": {
              "outlinewidth": 0,
              "ticks": ""
             }
            },
            "type": "scattergeo"
           }
          ],
          "scattergl": [
           {
            "marker": {
             "colorbar": {
              "outlinewidth": 0,
              "ticks": ""
             }
            },
            "type": "scattergl"
           }
          ],
          "scattermapbox": [
           {
            "marker": {
             "colorbar": {
              "outlinewidth": 0,
              "ticks": ""
             }
            },
            "type": "scattermapbox"
           }
          ],
          "scatterpolar": [
           {
            "marker": {
             "colorbar": {
              "outlinewidth": 0,
              "ticks": ""
             }
            },
            "type": "scatterpolar"
           }
          ],
          "scatterpolargl": [
           {
            "marker": {
             "colorbar": {
              "outlinewidth": 0,
              "ticks": ""
             }
            },
            "type": "scatterpolargl"
           }
          ],
          "scatterternary": [
           {
            "marker": {
             "colorbar": {
              "outlinewidth": 0,
              "ticks": ""
             }
            },
            "type": "scatterternary"
           }
          ],
          "surface": [
           {
            "colorbar": {
             "outlinewidth": 0,
             "ticks": ""
            },
            "colorscale": [
             [
              0,
              "#0d0887"
             ],
             [
              0.1111111111111111,
              "#46039f"
             ],
             [
              0.2222222222222222,
              "#7201a8"
             ],
             [
              0.3333333333333333,
              "#9c179e"
             ],
             [
              0.4444444444444444,
              "#bd3786"
             ],
             [
              0.5555555555555556,
              "#d8576b"
             ],
             [
              0.6666666666666666,
              "#ed7953"
             ],
             [
              0.7777777777777778,
              "#fb9f3a"
             ],
             [
              0.8888888888888888,
              "#fdca26"
             ],
             [
              1,
              "#f0f921"
             ]
            ],
            "type": "surface"
           }
          ],
          "table": [
           {
            "cells": {
             "fill": {
              "color": "#EBF0F8"
             },
             "line": {
              "color": "white"
             }
            },
            "header": {
             "fill": {
              "color": "#C8D4E3"
             },
             "line": {
              "color": "white"
             }
            },
            "type": "table"
           }
          ]
         },
         "layout": {
          "annotationdefaults": {
           "arrowcolor": "#2a3f5f",
           "arrowhead": 0,
           "arrowwidth": 1
          },
          "autotypenumbers": "strict",
          "coloraxis": {
           "colorbar": {
            "outlinewidth": 0,
            "ticks": ""
           }
          },
          "colorscale": {
           "diverging": [
            [
             0,
             "#8e0152"
            ],
            [
             0.1,
             "#c51b7d"
            ],
            [
             0.2,
             "#de77ae"
            ],
            [
             0.3,
             "#f1b6da"
            ],
            [
             0.4,
             "#fde0ef"
            ],
            [
             0.5,
             "#f7f7f7"
            ],
            [
             0.6,
             "#e6f5d0"
            ],
            [
             0.7,
             "#b8e186"
            ],
            [
             0.8,
             "#7fbc41"
            ],
            [
             0.9,
             "#4d9221"
            ],
            [
             1,
             "#276419"
            ]
           ],
           "sequential": [
            [
             0,
             "#0d0887"
            ],
            [
             0.1111111111111111,
             "#46039f"
            ],
            [
             0.2222222222222222,
             "#7201a8"
            ],
            [
             0.3333333333333333,
             "#9c179e"
            ],
            [
             0.4444444444444444,
             "#bd3786"
            ],
            [
             0.5555555555555556,
             "#d8576b"
            ],
            [
             0.6666666666666666,
             "#ed7953"
            ],
            [
             0.7777777777777778,
             "#fb9f3a"
            ],
            [
             0.8888888888888888,
             "#fdca26"
            ],
            [
             1,
             "#f0f921"
            ]
           ],
           "sequentialminus": [
            [
             0,
             "#0d0887"
            ],
            [
             0.1111111111111111,
             "#46039f"
            ],
            [
             0.2222222222222222,
             "#7201a8"
            ],
            [
             0.3333333333333333,
             "#9c179e"
            ],
            [
             0.4444444444444444,
             "#bd3786"
            ],
            [
             0.5555555555555556,
             "#d8576b"
            ],
            [
             0.6666666666666666,
             "#ed7953"
            ],
            [
             0.7777777777777778,
             "#fb9f3a"
            ],
            [
             0.8888888888888888,
             "#fdca26"
            ],
            [
             1,
             "#f0f921"
            ]
           ]
          },
          "colorway": [
           "#636efa",
           "#EF553B",
           "#00cc96",
           "#ab63fa",
           "#FFA15A",
           "#19d3f3",
           "#FF6692",
           "#B6E880",
           "#FF97FF",
           "#FECB52"
          ],
          "font": {
           "color": "#2a3f5f"
          },
          "geo": {
           "bgcolor": "white",
           "lakecolor": "white",
           "landcolor": "#E5ECF6",
           "showlakes": true,
           "showland": true,
           "subunitcolor": "white"
          },
          "hoverlabel": {
           "align": "left"
          },
          "hovermode": "closest",
          "mapbox": {
           "style": "light"
          },
          "paper_bgcolor": "white",
          "plot_bgcolor": "#E5ECF6",
          "polar": {
           "angularaxis": {
            "gridcolor": "white",
            "linecolor": "white",
            "ticks": ""
           },
           "bgcolor": "#E5ECF6",
           "radialaxis": {
            "gridcolor": "white",
            "linecolor": "white",
            "ticks": ""
           }
          },
          "scene": {
           "xaxis": {
            "backgroundcolor": "#E5ECF6",
            "gridcolor": "white",
            "gridwidth": 2,
            "linecolor": "white",
            "showbackground": true,
            "ticks": "",
            "zerolinecolor": "white"
           },
           "yaxis": {
            "backgroundcolor": "#E5ECF6",
            "gridcolor": "white",
            "gridwidth": 2,
            "linecolor": "white",
            "showbackground": true,
            "ticks": "",
            "zerolinecolor": "white"
           },
           "zaxis": {
            "backgroundcolor": "#E5ECF6",
            "gridcolor": "white",
            "gridwidth": 2,
            "linecolor": "white",
            "showbackground": true,
            "ticks": "",
            "zerolinecolor": "white"
           }
          },
          "shapedefaults": {
           "line": {
            "color": "#2a3f5f"
           }
          },
          "ternary": {
           "aaxis": {
            "gridcolor": "white",
            "linecolor": "white",
            "ticks": ""
           },
           "baxis": {
            "gridcolor": "white",
            "linecolor": "white",
            "ticks": ""
           },
           "bgcolor": "#E5ECF6",
           "caxis": {
            "gridcolor": "white",
            "linecolor": "white",
            "ticks": ""
           }
          },
          "title": {
           "x": 0.05
          },
          "xaxis": {
           "automargin": true,
           "gridcolor": "white",
           "linecolor": "white",
           "ticks": "",
           "title": {
            "standoff": 15
           },
           "zerolinecolor": "white",
           "zerolinewidth": 2
          },
          "yaxis": {
           "automargin": true,
           "gridcolor": "white",
           "linecolor": "white",
           "ticks": "",
           "title": {
            "standoff": 15
           },
           "zerolinecolor": "white",
           "zerolinewidth": 2
          }
         }
        },
        "xaxis": {
         "anchor": "y",
         "domain": [
          0,
          1
         ],
         "title": {
          "text": "hit_chance"
         }
        },
        "yaxis": {
         "anchor": "x",
         "domain": [
          0,
          1
         ],
         "title": {
          "text": "p99"
         }
        }
       }
      }
     },
     "metadata": {},
     "output_type": "display_data"
    }
   ],
   "source": [
    "plot.plot(x, 'hit_chance', allpoints=False)"
   ]
  }
 ],
 "metadata": {
  "kernelspec": {
   "display_name": "Python 3",
   "language": "python",
   "name": "python3"
  },
  "language_info": {
   "codemirror_mode": {
    "name": "ipython",
    "version": 3
   },
   "file_extension": ".py",
   "mimetype": "text/x-python",
   "name": "python",
   "nbconvert_exporter": "python",
   "pygments_lexer": "ipython3",
   "version": "3.10.6"
  }
 },
 "nbformat": 4,
 "nbformat_minor": 2
}
