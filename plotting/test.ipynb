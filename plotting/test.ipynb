{
 "cells": [
  {
   "cell_type": "code",
   "execution_count": 2,
   "metadata": {},
   "outputs": [],
   "source": [
    "import os\n",
    "import plot"
   ]
  },
  {
   "cell_type": "code",
   "execution_count": 3,
   "metadata": {},
   "outputs": [
    {
     "data": {
      "text/html": [
       "<div>\n",
       "<style scoped>\n",
       "    .dataframe tbody tr th:only-of-type {\n",
       "        vertical-align: middle;\n",
       "    }\n",
       "\n",
       "    .dataframe tbody tr th {\n",
       "        vertical-align: top;\n",
       "    }\n",
       "\n",
       "    .dataframe thead th {\n",
       "        text-align: right;\n",
       "    }\n",
       "</style>\n",
       "<table border=\"1\" class=\"dataframe\">\n",
       "  <thead>\n",
       "    <tr style=\"text-align: right;\">\n",
       "      <th></th>\n",
       "      <th>system</th>\n",
       "      <th>distribution</th>\n",
       "      <th>batchsize</th>\n",
       "      <th>hit_chance</th>\n",
       "      <th>period</th>\n",
       "      <th>utilization</th>\n",
       "      <th>p99</th>\n",
       "      <th>p99_lower</th>\n",
       "      <th>p99_upper</th>\n",
       "    </tr>\n",
       "  </thead>\n",
       "  <tbody>\n",
       "    <tr>\n",
       "      <th>0</th>\n",
       "      <td>F1T</td>\n",
       "      <td>slre</td>\n",
       "      <td>300000</td>\n",
       "      <td>0.00001</td>\n",
       "      <td>0.017267</td>\n",
       "      <td>0.96</td>\n",
       "      <td>13.907153</td>\n",
       "      <td>13.907153</td>\n",
       "      <td>13.907153</td>\n",
       "    </tr>\n",
       "    <tr>\n",
       "      <th>1</th>\n",
       "      <td>F1T</td>\n",
       "      <td>slre</td>\n",
       "      <td>300000</td>\n",
       "      <td>0.00011</td>\n",
       "      <td>0.017267</td>\n",
       "      <td>0.97</td>\n",
       "      <td>63.248331</td>\n",
       "      <td>45.971025</td>\n",
       "      <td>82.090058</td>\n",
       "    </tr>\n",
       "    <tr>\n",
       "      <th>2</th>\n",
       "      <td>F1T</td>\n",
       "      <td>slre</td>\n",
       "      <td>300000</td>\n",
       "      <td>0.00124</td>\n",
       "      <td>0.017267</td>\n",
       "      <td>0.98</td>\n",
       "      <td>471.832130</td>\n",
       "      <td>471.543058</td>\n",
       "      <td>471.832130</td>\n",
       "    </tr>\n",
       "    <tr>\n",
       "      <th>3</th>\n",
       "      <td>F1T</td>\n",
       "      <td>slre</td>\n",
       "      <td>300000</td>\n",
       "      <td>0.00591</td>\n",
       "      <td>0.017267</td>\n",
       "      <td>0.99</td>\n",
       "      <td>4727.604624</td>\n",
       "      <td>4705.821255</td>\n",
       "      <td>4748.317362</td>\n",
       "    </tr>\n",
       "    <tr>\n",
       "      <th>4</th>\n",
       "      <td>F1T</td>\n",
       "      <td>slre</td>\n",
       "      <td>300000</td>\n",
       "      <td>0.01866</td>\n",
       "      <td>0.017267</td>\n",
       "      <td>1.00</td>\n",
       "      <td>31068.852080</td>\n",
       "      <td>30410.583777</td>\n",
       "      <td>31587.670361</td>\n",
       "    </tr>\n",
       "    <tr>\n",
       "      <th>...</th>\n",
       "      <td>...</td>\n",
       "      <td>...</td>\n",
       "      <td>...</td>\n",
       "      <td>...</td>\n",
       "      <td>...</td>\n",
       "      <td>...</td>\n",
       "      <td>...</td>\n",
       "      <td>...</td>\n",
       "      <td>...</td>\n",
       "    </tr>\n",
       "    <tr>\n",
       "      <th>36</th>\n",
       "      <td>F1T</td>\n",
       "      <td>slre</td>\n",
       "      <td>300000</td>\n",
       "      <td>0.98308</td>\n",
       "      <td>0.028045</td>\n",
       "      <td>0.96</td>\n",
       "      <td>0.629298</td>\n",
       "      <td>0.629298</td>\n",
       "      <td>0.629298</td>\n",
       "    </tr>\n",
       "    <tr>\n",
       "      <th>37</th>\n",
       "      <td>F1T</td>\n",
       "      <td>slre</td>\n",
       "      <td>300000</td>\n",
       "      <td>0.98507</td>\n",
       "      <td>0.028045</td>\n",
       "      <td>0.97</td>\n",
       "      <td>0.629298</td>\n",
       "      <td>0.629298</td>\n",
       "      <td>0.629298</td>\n",
       "    </tr>\n",
       "    <tr>\n",
       "      <th>38</th>\n",
       "      <td>F1T</td>\n",
       "      <td>slre</td>\n",
       "      <td>300000</td>\n",
       "      <td>0.98697</td>\n",
       "      <td>0.028045</td>\n",
       "      <td>0.98</td>\n",
       "      <td>0.629298</td>\n",
       "      <td>0.629298</td>\n",
       "      <td>0.629298</td>\n",
       "    </tr>\n",
       "    <tr>\n",
       "      <th>39</th>\n",
       "      <td>F1T</td>\n",
       "      <td>slre</td>\n",
       "      <td>300000</td>\n",
       "      <td>0.98854</td>\n",
       "      <td>0.028045</td>\n",
       "      <td>0.99</td>\n",
       "      <td>0.629298</td>\n",
       "      <td>0.629298</td>\n",
       "      <td>0.629298</td>\n",
       "    </tr>\n",
       "    <tr>\n",
       "      <th>40</th>\n",
       "      <td>F1T</td>\n",
       "      <td>slre</td>\n",
       "      <td>300000</td>\n",
       "      <td>0.99000</td>\n",
       "      <td>0.028045</td>\n",
       "      <td>1.00</td>\n",
       "      <td>0.372044</td>\n",
       "      <td>0.372044</td>\n",
       "      <td>0.629298</td>\n",
       "    </tr>\n",
       "  </tbody>\n",
       "</table>\n",
       "<p>2597 rows × 9 columns</p>\n",
       "</div>"
      ],
      "text/plain": [
       "   system distribution  batchsize  hit_chance    period  utilization  \\\n",
       "0     F1T         slre     300000     0.00001  0.017267         0.96   \n",
       "1     F1T         slre     300000     0.00011  0.017267         0.97   \n",
       "2     F1T         slre     300000     0.00124  0.017267         0.98   \n",
       "3     F1T         slre     300000     0.00591  0.017267         0.99   \n",
       "4     F1T         slre     300000     0.01866  0.017267         1.00   \n",
       "..    ...          ...        ...         ...       ...          ...   \n",
       "36    F1T         slre     300000     0.98308  0.028045         0.96   \n",
       "37    F1T         slre     300000     0.98507  0.028045         0.97   \n",
       "38    F1T         slre     300000     0.98697  0.028045         0.98   \n",
       "39    F1T         slre     300000     0.98854  0.028045         0.99   \n",
       "40    F1T         slre     300000     0.99000  0.028045         1.00   \n",
       "\n",
       "             p99     p99_lower     p99_upper  \n",
       "0      13.907153     13.907153     13.907153  \n",
       "1      63.248331     45.971025     82.090058  \n",
       "2     471.832130    471.543058    471.832130  \n",
       "3    4727.604624   4705.821255   4748.317362  \n",
       "4   31068.852080  30410.583777  31587.670361  \n",
       "..           ...           ...           ...  \n",
       "36      0.629298      0.629298      0.629298  \n",
       "37      0.629298      0.629298      0.629298  \n",
       "38      0.629298      0.629298      0.629298  \n",
       "39      0.629298      0.629298      0.629298  \n",
       "40      0.372044      0.372044      0.629298  \n",
       "\n",
       "[2597 rows x 9 columns]"
      ]
     },
     "execution_count": 3,
     "metadata": {},
     "output_type": "execute_result"
    }
   ],
   "source": [
    "JOB_ID = 48687773\n",
    "DATA_PATH = os.path.join(os.getcwd(), f\"../data-csv/\")\n",
    "FILE_NUM = range(1, 101)\n",
    "x = plot.readfile(DATA_PATH, JOB_ID, FILE_NUM)\n",
    "x"
   ]
  },
  {
   "cell_type": "code",
   "execution_count": 15,
   "metadata": {},
   "outputs": [
    {
     "data": {
      "application/vnd.plotly.v1+json": {
       "config": {
        "plotlyServerURL": "https://plot.ly"
       },
       "data": [
        {
         "customdata": [
          [
           0.00006,
           0.027826804766363
          ],
          [
           0.00002,
           0.0259761343097447
          ],
          [
           0.38999,
           0.027826804766363
          ],
          [
           0.42602,
           0.0280445307024357
          ],
          [
           0.45622,
           0.027826804766363
          ],
          [
           0.48985,
           0.0280445307024357
          ],
          [
           0.50089,
           0.0277179417983266
          ],
          [
           0.5321,
           0.0279356677343994
          ],
          [
           0.54715,
           0.0280445307024357
          ],
          [
           0.55653,
           0.0277179417983266
          ],
          [
           0.58583,
           0.0279356677343994
          ],
          [
           0.59875,
           0.0280445307024357
          ],
          [
           0.64572,
           0.0280445307024357
          ],
          [
           0.67524,
           0.0279356677343994
          ],
          [
           0.6638,
           0.027826804766363
          ],
          [
           0.68088,
           0.0276090788302902
          ],
          [
           0.65744,
           0.0273913528942175
          ],
          [
           0.72306,
           0.0280445307024357
          ],
          [
           0.7131,
           0.0279356677343994
          ],
          [
           0.72732,
           0.0277179417983266
          ],
          [
           0.70743,
           0.0275002158622539
          ],
          [
           0.72091,
           0.0272824899261811
          ],
          [
           0.77613,
           0.0279356677343994
          ],
          [
           0.7131,
           0.0268470380540356
          ],
          [
           0.79506,
           0.027826804766363
          ],
          [
           0.78915,
           0.0273913528942175
          ],
          [
           0.79082,
           0.0270647639901084
          ],
          [
           0.7918,
           0.0267381750859993
          ],
          [
           0.79999,
           0.0265204491499265
          ],
          [
           0.79203,
           0.0264115861818902
          ],
          [
           0.79168,
           0.026084997277781
          ],
          [
           0.80678,
           0.0259761343097447
          ],
          [
           0.90214,
           0.027826804766363
          ],
          [
           0.90976,
           0.0277179417983266
          ],
          [
           0.90597,
           0.0276090788302902
          ],
          [
           0.90239,
           0.0275002158622539
          ],
          [
           0.9022,
           0.0271736269581448
          ],
          [
           0.90557,
           0.026955901022072
          ],
          [
           0.90184,
           0.0268470380540356
          ],
          [
           0.90503,
           0.0266293121179629
          ],
          [
           0.90109,
           0.0265204491499265
          ],
          [
           0.90443,
           0.0263027232138538
          ],
          [
           0.90314,
           0.0259761343097447
          ],
          [
           0.90955,
           0.0258672713417083
          ],
          [
           0.90174,
           0.0256495454056355
          ],
          [
           0.90425,
           0.0254318194695628
          ],
          [
           0.90622,
           0.0252140935334901
          ],
          [
           0.90216,
           0.0251052305654537
          ],
          [
           0.90438,
           0.0248875046293809
          ],
          [
           0.91011,
           0.0247786416613446
          ],
          [
           0.90585,
           0.0246697786933082
          ],
          [
           0.91186,
           0.0245609157252718
          ],
          [
           0.9034,
           0.0243431897891991
          ],
          [
           0.90025,
           0.02401660088509
          ],
          [
           0.90594,
           0.0239077379170536
          ],
          [
           0.90176,
           0.0237988749490172
          ],
          [
           0.90696,
           0.0236900119809808
          ],
          [
           0.90273,
           0.0235811490129445
          ],
          [
           0.90357,
           0.0233634230768717
          ],
          [
           0.90438,
           0.023145697140799
          ],
          [
           0.89926,
           0.0230368341727626
          ],
          [
           0.99,
           0.0280445307024357
          ]
         ],
         "hovertemplate": "utilization=%{x}<br>p99=%{y}<br>hit_chance=%{customdata[0]}<br>period=%{customdata[1]}<extra></extra>",
         "legendgroup": "",
         "marker": {
          "color": "#636efa",
          "symbol": "circle"
         },
         "mode": "markers",
         "name": "",
         "orientation": "v",
         "showlegend": false,
         "type": "scatter",
         "x": [
          0.6,
          0.64,
          0.68,
          0.68,
          0.69,
          0.69,
          0.7,
          0.7,
          0.7,
          0.71,
          0.71,
          0.71,
          0.72,
          0.73,
          0.73,
          0.74,
          0.74,
          0.74,
          0.74,
          0.75,
          0.75,
          0.76,
          0.76,
          0.77,
          0.77,
          0.78,
          0.79,
          0.8,
          0.81,
          0.81,
          0.82,
          0.83,
          0.83,
          0.84,
          0.84,
          0.84,
          0.85,
          0.86,
          0.86,
          0.87,
          0.87,
          0.88,
          0.89,
          0.9,
          0.9,
          0.91,
          0.92,
          0.92,
          0.93,
          0.94,
          0.94,
          0.95,
          0.95,
          0.96,
          0.97,
          0.97,
          0.98,
          0.98,
          0.99,
          1,
          1,
          1
         ],
         "xaxis": "x",
         "y": [
          13.842068022085153,
          13.832207946234982,
          11.060861829931367,
          6.84324238224378,
          4.7863492161032095,
          3.480988087391968,
          3.147345371217799,
          2.4441836110339845,
          2.3740361698095893,
          2.2232725678741745,
          1.910404915355201,
          1.745826670892205,
          1.518264293323405,
          1.4161019105685155,
          1.4111049000825229,
          1.4010578248496528,
          1.3909399736399637,
          1.1581123289881738,
          1.1537363252172914,
          1.1449437709664243,
          1.136097269382225,
          1.1271969702912712,
          1.1178470586866531,
          1.109235649009711,
          0.8817727528411841,
          0.8705412679588272,
          0.8619588514416014,
          0.8532401970357099,
          0.8473520384590143,
          0.8443852362874233,
          0.8353939919363368,
          0.8323666437622351,
          0.6249767889085075,
          0.6228013311188283,
          0.620615866189966,
          0.6184204041099122,
          0.6117741438582108,
          0.6072935283020068,
          0.6050383270741715,
          0.6004982086708834,
          0.5982133031662201,
          0.5936139003923196,
          0.5866411019435491,
          0.5842972601406247,
          0.5795803361557614,
          0.5748245718872209,
          0.570810966365429,
          0.5690221388862907,
          0.5654027230003379,
          0.5635721054703416,
          0.5617275301783384,
          0.5598689846543231,
          0.5561099373661068,
          0.5503663284454273,
          0.5484237491471664,
          0.5464671374209524,
          0.5444964881685782,
          0.5425117972892172,
          0.538500279802987,
          0.5344325793215557,
          0.5323776589446302,
          0.3720437133415009
         ],
         "yaxis": "y"
        }
       ],
       "layout": {
        "legend": {
         "tracegroupgap": 0
        },
        "margin": {
         "t": 60
        },
        "plot_bgcolor": "white",
        "template": {
         "data": {
          "bar": [
           {
            "error_x": {
             "color": "#2a3f5f"
            },
            "error_y": {
             "color": "#2a3f5f"
            },
            "marker": {
             "line": {
              "color": "#E5ECF6",
              "width": 0.5
             },
             "pattern": {
              "fillmode": "overlay",
              "size": 10,
              "solidity": 0.2
             }
            },
            "type": "bar"
           }
          ],
          "barpolar": [
           {
            "marker": {
             "line": {
              "color": "#E5ECF6",
              "width": 0.5
             },
             "pattern": {
              "fillmode": "overlay",
              "size": 10,
              "solidity": 0.2
             }
            },
            "type": "barpolar"
           }
          ],
          "carpet": [
           {
            "aaxis": {
             "endlinecolor": "#2a3f5f",
             "gridcolor": "white",
             "linecolor": "white",
             "minorgridcolor": "white",
             "startlinecolor": "#2a3f5f"
            },
            "baxis": {
             "endlinecolor": "#2a3f5f",
             "gridcolor": "white",
             "linecolor": "white",
             "minorgridcolor": "white",
             "startlinecolor": "#2a3f5f"
            },
            "type": "carpet"
           }
          ],
          "choropleth": [
           {
            "colorbar": {
             "outlinewidth": 0,
             "ticks": ""
            },
            "type": "choropleth"
           }
          ],
          "contour": [
           {
            "colorbar": {
             "outlinewidth": 0,
             "ticks": ""
            },
            "colorscale": [
             [
              0,
              "#0d0887"
             ],
             [
              0.1111111111111111,
              "#46039f"
             ],
             [
              0.2222222222222222,
              "#7201a8"
             ],
             [
              0.3333333333333333,
              "#9c179e"
             ],
             [
              0.4444444444444444,
              "#bd3786"
             ],
             [
              0.5555555555555556,
              "#d8576b"
             ],
             [
              0.6666666666666666,
              "#ed7953"
             ],
             [
              0.7777777777777778,
              "#fb9f3a"
             ],
             [
              0.8888888888888888,
              "#fdca26"
             ],
             [
              1,
              "#f0f921"
             ]
            ],
            "type": "contour"
           }
          ],
          "contourcarpet": [
           {
            "colorbar": {
             "outlinewidth": 0,
             "ticks": ""
            },
            "type": "contourcarpet"
           }
          ],
          "heatmap": [
           {
            "colorbar": {
             "outlinewidth": 0,
             "ticks": ""
            },
            "colorscale": [
             [
              0,
              "#0d0887"
             ],
             [
              0.1111111111111111,
              "#46039f"
             ],
             [
              0.2222222222222222,
              "#7201a8"
             ],
             [
              0.3333333333333333,
              "#9c179e"
             ],
             [
              0.4444444444444444,
              "#bd3786"
             ],
             [
              0.5555555555555556,
              "#d8576b"
             ],
             [
              0.6666666666666666,
              "#ed7953"
             ],
             [
              0.7777777777777778,
              "#fb9f3a"
             ],
             [
              0.8888888888888888,
              "#fdca26"
             ],
             [
              1,
              "#f0f921"
             ]
            ],
            "type": "heatmap"
           }
          ],
          "heatmapgl": [
           {
            "colorbar": {
             "outlinewidth": 0,
             "ticks": ""
            },
            "colorscale": [
             [
              0,
              "#0d0887"
             ],
             [
              0.1111111111111111,
              "#46039f"
             ],
             [
              0.2222222222222222,
              "#7201a8"
             ],
             [
              0.3333333333333333,
              "#9c179e"
             ],
             [
              0.4444444444444444,
              "#bd3786"
             ],
             [
              0.5555555555555556,
              "#d8576b"
             ],
             [
              0.6666666666666666,
              "#ed7953"
             ],
             [
              0.7777777777777778,
              "#fb9f3a"
             ],
             [
              0.8888888888888888,
              "#fdca26"
             ],
             [
              1,
              "#f0f921"
             ]
            ],
            "type": "heatmapgl"
           }
          ],
          "histogram": [
           {
            "marker": {
             "pattern": {
              "fillmode": "overlay",
              "size": 10,
              "solidity": 0.2
             }
            },
            "type": "histogram"
           }
          ],
          "histogram2d": [
           {
            "colorbar": {
             "outlinewidth": 0,
             "ticks": ""
            },
            "colorscale": [
             [
              0,
              "#0d0887"
             ],
             [
              0.1111111111111111,
              "#46039f"
             ],
             [
              0.2222222222222222,
              "#7201a8"
             ],
             [
              0.3333333333333333,
              "#9c179e"
             ],
             [
              0.4444444444444444,
              "#bd3786"
             ],
             [
              0.5555555555555556,
              "#d8576b"
             ],
             [
              0.6666666666666666,
              "#ed7953"
             ],
             [
              0.7777777777777778,
              "#fb9f3a"
             ],
             [
              0.8888888888888888,
              "#fdca26"
             ],
             [
              1,
              "#f0f921"
             ]
            ],
            "type": "histogram2d"
           }
          ],
          "histogram2dcontour": [
           {
            "colorbar": {
             "outlinewidth": 0,
             "ticks": ""
            },
            "colorscale": [
             [
              0,
              "#0d0887"
             ],
             [
              0.1111111111111111,
              "#46039f"
             ],
             [
              0.2222222222222222,
              "#7201a8"
             ],
             [
              0.3333333333333333,
              "#9c179e"
             ],
             [
              0.4444444444444444,
              "#bd3786"
             ],
             [
              0.5555555555555556,
              "#d8576b"
             ],
             [
              0.6666666666666666,
              "#ed7953"
             ],
             [
              0.7777777777777778,
              "#fb9f3a"
             ],
             [
              0.8888888888888888,
              "#fdca26"
             ],
             [
              1,
              "#f0f921"
             ]
            ],
            "type": "histogram2dcontour"
           }
          ],
          "mesh3d": [
           {
            "colorbar": {
             "outlinewidth": 0,
             "ticks": ""
            },
            "type": "mesh3d"
           }
          ],
          "parcoords": [
           {
            "line": {
             "colorbar": {
              "outlinewidth": 0,
              "ticks": ""
             }
            },
            "type": "parcoords"
           }
          ],
          "pie": [
           {
            "automargin": true,
            "type": "pie"
           }
          ],
          "scatter": [
           {
            "fillpattern": {
             "fillmode": "overlay",
             "size": 10,
             "solidity": 0.2
            },
            "type": "scatter"
           }
          ],
          "scatter3d": [
           {
            "line": {
             "colorbar": {
              "outlinewidth": 0,
              "ticks": ""
             }
            },
            "marker": {
             "colorbar": {
              "outlinewidth": 0,
              "ticks": ""
             }
            },
            "type": "scatter3d"
           }
          ],
          "scattercarpet": [
           {
            "marker": {
             "colorbar": {
              "outlinewidth": 0,
              "ticks": ""
             }
            },
            "type": "scattercarpet"
           }
          ],
          "scattergeo": [
           {
            "marker": {
             "colorbar": {
              "outlinewidth": 0,
              "ticks": ""
             }
            },
            "type": "scattergeo"
           }
          ],
          "scattergl": [
           {
            "marker": {
             "colorbar": {
              "outlinewidth": 0,
              "ticks": ""
             }
            },
            "type": "scattergl"
           }
          ],
          "scattermapbox": [
           {
            "marker": {
             "colorbar": {
              "outlinewidth": 0,
              "ticks": ""
             }
            },
            "type": "scattermapbox"
           }
          ],
          "scatterpolar": [
           {
            "marker": {
             "colorbar": {
              "outlinewidth": 0,
              "ticks": ""
             }
            },
            "type": "scatterpolar"
           }
          ],
          "scatterpolargl": [
           {
            "marker": {
             "colorbar": {
              "outlinewidth": 0,
              "ticks": ""
             }
            },
            "type": "scatterpolargl"
           }
          ],
          "scatterternary": [
           {
            "marker": {
             "colorbar": {
              "outlinewidth": 0,
              "ticks": ""
             }
            },
            "type": "scatterternary"
           }
          ],
          "surface": [
           {
            "colorbar": {
             "outlinewidth": 0,
             "ticks": ""
            },
            "colorscale": [
             [
              0,
              "#0d0887"
             ],
             [
              0.1111111111111111,
              "#46039f"
             ],
             [
              0.2222222222222222,
              "#7201a8"
             ],
             [
              0.3333333333333333,
              "#9c179e"
             ],
             [
              0.4444444444444444,
              "#bd3786"
             ],
             [
              0.5555555555555556,
              "#d8576b"
             ],
             [
              0.6666666666666666,
              "#ed7953"
             ],
             [
              0.7777777777777778,
              "#fb9f3a"
             ],
             [
              0.8888888888888888,
              "#fdca26"
             ],
             [
              1,
              "#f0f921"
             ]
            ],
            "type": "surface"
           }
          ],
          "table": [
           {
            "cells": {
             "fill": {
              "color": "#EBF0F8"
             },
             "line": {
              "color": "white"
             }
            },
            "header": {
             "fill": {
              "color": "#C8D4E3"
             },
             "line": {
              "color": "white"
             }
            },
            "type": "table"
           }
          ]
         },
         "layout": {
          "annotationdefaults": {
           "arrowcolor": "#2a3f5f",
           "arrowhead": 0,
           "arrowwidth": 1
          },
          "autotypenumbers": "strict",
          "coloraxis": {
           "colorbar": {
            "outlinewidth": 0,
            "ticks": ""
           }
          },
          "colorscale": {
           "diverging": [
            [
             0,
             "#8e0152"
            ],
            [
             0.1,
             "#c51b7d"
            ],
            [
             0.2,
             "#de77ae"
            ],
            [
             0.3,
             "#f1b6da"
            ],
            [
             0.4,
             "#fde0ef"
            ],
            [
             0.5,
             "#f7f7f7"
            ],
            [
             0.6,
             "#e6f5d0"
            ],
            [
             0.7,
             "#b8e186"
            ],
            [
             0.8,
             "#7fbc41"
            ],
            [
             0.9,
             "#4d9221"
            ],
            [
             1,
             "#276419"
            ]
           ],
           "sequential": [
            [
             0,
             "#0d0887"
            ],
            [
             0.1111111111111111,
             "#46039f"
            ],
            [
             0.2222222222222222,
             "#7201a8"
            ],
            [
             0.3333333333333333,
             "#9c179e"
            ],
            [
             0.4444444444444444,
             "#bd3786"
            ],
            [
             0.5555555555555556,
             "#d8576b"
            ],
            [
             0.6666666666666666,
             "#ed7953"
            ],
            [
             0.7777777777777778,
             "#fb9f3a"
            ],
            [
             0.8888888888888888,
             "#fdca26"
            ],
            [
             1,
             "#f0f921"
            ]
           ],
           "sequentialminus": [
            [
             0,
             "#0d0887"
            ],
            [
             0.1111111111111111,
             "#46039f"
            ],
            [
             0.2222222222222222,
             "#7201a8"
            ],
            [
             0.3333333333333333,
             "#9c179e"
            ],
            [
             0.4444444444444444,
             "#bd3786"
            ],
            [
             0.5555555555555556,
             "#d8576b"
            ],
            [
             0.6666666666666666,
             "#ed7953"
            ],
            [
             0.7777777777777778,
             "#fb9f3a"
            ],
            [
             0.8888888888888888,
             "#fdca26"
            ],
            [
             1,
             "#f0f921"
            ]
           ]
          },
          "colorway": [
           "#636efa",
           "#EF553B",
           "#00cc96",
           "#ab63fa",
           "#FFA15A",
           "#19d3f3",
           "#FF6692",
           "#B6E880",
           "#FF97FF",
           "#FECB52"
          ],
          "font": {
           "color": "#2a3f5f"
          },
          "geo": {
           "bgcolor": "white",
           "lakecolor": "white",
           "landcolor": "#E5ECF6",
           "showlakes": true,
           "showland": true,
           "subunitcolor": "white"
          },
          "hoverlabel": {
           "align": "left"
          },
          "hovermode": "closest",
          "mapbox": {
           "style": "light"
          },
          "paper_bgcolor": "white",
          "plot_bgcolor": "#E5ECF6",
          "polar": {
           "angularaxis": {
            "gridcolor": "white",
            "linecolor": "white",
            "ticks": ""
           },
           "bgcolor": "#E5ECF6",
           "radialaxis": {
            "gridcolor": "white",
            "linecolor": "white",
            "ticks": ""
           }
          },
          "scene": {
           "xaxis": {
            "backgroundcolor": "#E5ECF6",
            "gridcolor": "white",
            "gridwidth": 2,
            "linecolor": "white",
            "showbackground": true,
            "ticks": "",
            "zerolinecolor": "white"
           },
           "yaxis": {
            "backgroundcolor": "#E5ECF6",
            "gridcolor": "white",
            "gridwidth": 2,
            "linecolor": "white",
            "showbackground": true,
            "ticks": "",
            "zerolinecolor": "white"
           },
           "zaxis": {
            "backgroundcolor": "#E5ECF6",
            "gridcolor": "white",
            "gridwidth": 2,
            "linecolor": "white",
            "showbackground": true,
            "ticks": "",
            "zerolinecolor": "white"
           }
          },
          "shapedefaults": {
           "line": {
            "color": "#2a3f5f"
           }
          },
          "ternary": {
           "aaxis": {
            "gridcolor": "white",
            "linecolor": "white",
            "ticks": ""
           },
           "baxis": {
            "gridcolor": "white",
            "linecolor": "white",
            "ticks": ""
           },
           "bgcolor": "#E5ECF6",
           "caxis": {
            "gridcolor": "white",
            "linecolor": "white",
            "ticks": ""
           }
          },
          "title": {
           "x": 0.05
          },
          "xaxis": {
           "automargin": true,
           "gridcolor": "white",
           "linecolor": "white",
           "ticks": "",
           "title": {
            "standoff": 15
           },
           "zerolinecolor": "white",
           "zerolinewidth": 2
          },
          "yaxis": {
           "automargin": true,
           "gridcolor": "white",
           "linecolor": "white",
           "ticks": "",
           "title": {
            "standoff": 15
           },
           "zerolinecolor": "white",
           "zerolinewidth": 2
          }
         }
        },
        "title": {
         "text": "F1T - slre",
         "x": 0.5
        },
        "xaxis": {
         "anchor": "y",
         "domain": [
          0,
          1
         ],
         "gridcolor": "lightgrey",
         "linecolor": "black",
         "mirror": false,
         "showline": true,
         "ticks": "outside",
         "title": {
          "text": "utilization"
         }
        },
        "yaxis": {
         "anchor": "x",
         "domain": [
          0,
          1
         ],
         "gridcolor": "lightgrey",
         "linecolor": "black",
         "mirror": false,
         "showline": true,
         "ticks": "outside",
         "title": {
          "text": "p99"
         }
        }
       }
      }
     },
     "metadata": {},
     "output_type": "display_data"
    }
   ],
   "source": [
    "plot.plot(x, 'utilization', allpoints=False)"
   ]
  }
 ],
 "metadata": {
  "kernelspec": {
   "display_name": "Python 3",
   "language": "python",
   "name": "python3"
  },
  "language_info": {
   "codemirror_mode": {
    "name": "ipython",
    "version": 3
   },
   "file_extension": ".py",
   "mimetype": "text/x-python",
   "name": "python",
   "nbconvert_exporter": "python",
   "pygments_lexer": "ipython3",
   "version": "3.10.6"
  }
 },
 "nbformat": 4,
 "nbformat_minor": 2
}
